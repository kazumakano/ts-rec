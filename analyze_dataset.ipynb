{
 "cells": [
  {
   "cell_type": "code",
   "execution_count": 1,
   "metadata": {},
   "outputs": [],
   "source": [
    "import os.path as path\n",
    "import torch\n",
    "from torchvision.transforms import functional as TF\n",
    "import script.utility as util"
   ]
  },
  {
   "cell_type": "code",
   "execution_count": null,
   "metadata": {},
   "outputs": [],
   "source": [
    "result_dir = \"result/foo/\"\n",
    "ver = 0\n",
    "mode = \"train\"\n",
    "data_idx = 0\n",
    "\n",
    "dataset = torch.load(path.join(result_dir, f\"version_{ver}/{mode}_data_{data_idx}.pt\"))\n",
    "print(f\"length is {len(dataset)}\")\n",
    "util.plot_breakdown(dataset.breakdown)"
   ]
  },
  {
   "cell_type": "code",
   "execution_count": null,
   "metadata": {},
   "outputs": [],
   "source": [
    "idx = 0\n",
    "\n",
    "print(f\"label is {dataset[idx][1]}\")\n",
    "TF.to_pil_image(dataset[idx][0][[2, 1, 0]])"
   ]
  }
 ],
 "metadata": {
  "kernelspec": {
   "display_name": "Python 3",
   "language": "python",
   "name": "python3"
  },
  "language_info": {
   "codemirror_mode": {
    "name": "ipython",
    "version": 3
   },
   "file_extension": ".py",
   "mimetype": "text/x-python",
   "name": "python",
   "nbconvert_exporter": "python",
   "pygments_lexer": "ipython3",
   "version": "3.11.6"
  },
  "orig_nbformat": 4
 },
 "nbformat": 4,
 "nbformat_minor": 2
}
